{
 "cells": [
  {
   "cell_type": "code",
   "execution_count": 20,
   "id": "cf95e1ed",
   "metadata": {},
   "outputs": [],
   "source": [
    "# Creating a class to calculate the volume\n",
    "class Cube:\n",
    "    '''Class to calculate the volume of a cube'''\n",
    "    def __init__(self, edge):\n",
    "        self.x = edge\n",
    "        print('Object was created!')\n",
    "    def volume_calculation(self):\n",
    "        volume = self.x * self.x * self.x\n",
    "        return 'Volume calculated: ' + str(volume)\n",
    "        "
   ]
  },
  {
   "cell_type": "code",
   "execution_count": 16,
   "id": "0d539a60",
   "metadata": {},
   "outputs": [
    {
     "name": "stdout",
     "output_type": "stream",
     "text": [
      "<class 'type'>\n"
     ]
    }
   ],
   "source": [
    "# Checking if the class is ok\n",
    "print(type(Cube))"
   ]
  },
  {
   "cell_type": "code",
   "execution_count": 21,
   "id": "c2caa2d7",
   "metadata": {},
   "outputs": [
    {
     "name": "stdout",
     "output_type": "stream",
     "text": [
      "Object was created!\n",
      "Volume calculated: 216\n"
     ]
    }
   ],
   "source": [
    "test = Cube(6)\n",
    "c = test.volume_calculation()\n",
    "print(c)"
   ]
  }
 ],
 "metadata": {
  "kernelspec": {
   "display_name": "Python 3 (ipykernel)",
   "language": "python",
   "name": "python3"
  },
  "language_info": {
   "codemirror_mode": {
    "name": "ipython",
    "version": 3
   },
   "file_extension": ".py",
   "mimetype": "text/x-python",
   "name": "python",
   "nbconvert_exporter": "python",
   "pygments_lexer": "ipython3",
   "version": "3.9.7"
  }
 },
 "nbformat": 4,
 "nbformat_minor": 5
}
